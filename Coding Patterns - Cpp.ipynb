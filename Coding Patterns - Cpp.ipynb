{
 "cells": [
  {
   "cell_type": "markdown",
   "id": "floating-smooth",
   "metadata": {},
   "source": [
    "# Coding Pattern Practice - C++\n",
    "<a id=\"table-of-contents\"></a>\n",
    "\n",
    "1. [Sorted Array - Binary Search or Two Pointers](#pattern1)\n",
    "2. [Top/max/min/closest K - Heap](#pattern2)\n",
    "3. [Combinations or Permutations - Recursive Backtracking or Iterative Breadth-First Search](#pattern3) \n",
    "4. [Trees or Graphs - BFS or DFS](#pattern4)\n",
    "5. [Optimization(ex.,maximization/minimization) - Dynamic Programming)](#pattern5)\n",
    "6. [Common Substring Among a Set of Strings - HashMap or Trie](#pattern6)\n",
    "7. [Variational Approach](#pattern7) \n",
    "    * [Every Recusive Solution = Iterative Solution using a Stack]\n",
    "    * [Every Brute-force Solution (O(n^2)time, O(1)space) => (1) Using a Map/Set (O(n),O(n)) (2) Using Sorting (O(nlogn),O(1))]\n",
    "\n",
    "The reference article is from [here](https://betterprogramming.pub/the-ultimate-strategy-to-preparing-for-the-coding-interview-ee9f7eb439f3)\n",
    "\n"
   ]
  },
  {
   "cell_type": "markdown",
   "id": "ecological-oxford",
   "metadata": {},
   "source": [
    "[back to top](#table-of-contents)\n",
    "<a id=\"pattern1\"></a>\n",
    "## [Pattern1] Sorted Array: Binary Search or Two Pointers \n",
    "\n",
    "* If the given input is `sorted` (array, list, or matrix), we will use a variation of `Binary Search` or a `Two Pointers`\n",
    "* If the problem involves a `LinkedList` and requires `no extra space`, we use `Fast&Slow Pointer` Approach\n"
   ]
  },
  {
   "cell_type": "markdown",
   "id": "dominican-injection",
   "metadata": {},
   "source": [
    "[back to top](#table-of-contents)\n",
    "<a id=\"pattern2\"></a>\n",
    "## [Pattern2] Top/Max/Min/Closet K: Heap  \n",
    "\n",
    "* If we're dealing with top/maximum/minimum/closest `k elements among n elements`, we will use a `Heap`"
   ]
  },
  {
   "cell_type": "markdown",
   "id": "sapphire-watts",
   "metadata": {},
   "source": [
    "[back to top](#table-of-contents)\n",
    "<a id=\"pattern3\"></a>\n",
    "## [Pattern3] Combinations or Permutations: Backtracking or BFS\n",
    "\n",
    "* If we need to try all `combinations or permutations` of the input, we can either use `recursive Backgracking` or `iterative Breadth-First Search`"
   ]
  },
  {
   "cell_type": "code",
   "execution_count": null,
   "id": "cubic-dress",
   "metadata": {},
   "outputs": [],
   "source": []
  }
 ],
 "metadata": {
  "kernelspec": {
   "display_name": "C++17",
   "language": "C++17",
   "name": "xcpp17"
  },
  "language_info": {
   "codemirror_mode": "text/x-c++src",
   "file_extension": ".cpp",
   "mimetype": "text/x-c++src",
   "name": "c++",
   "version": "17"
  }
 },
 "nbformat": 4,
 "nbformat_minor": 5
}
