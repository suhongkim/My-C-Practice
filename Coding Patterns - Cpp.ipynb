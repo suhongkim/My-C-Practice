{
 "cells": [
  {
   "cell_type": "markdown",
   "id": "surgical-danish",
   "metadata": {},
   "source": [
    "# Coding Pattern Practice - C++\n",
    "<a id=\"table-of-contents\"></a>\n",
    "\n",
    "1. [Sorted Array - Binary Search or Two Pointers](#pattern1)\n",
    "2. [Top/max/min/closest K - Heap](#pattern2)\n",
    "3. [Combinations or Permutations - Recursive Backtracking or Iterative Breadth-First Search](#pattern3) \n",
    "4. [Trees or Graphs - BFS or DFS](#pattern4)\n",
    "5. [Optimization(ex.,maximization/minimization) - Dynamic Programming)](#pattern5)\n",
    "6. [Common Substring Among a Set of Strings - HashMap or Trie](#pattern6)\n",
    "7. [Variational Approach](#pattern7) \n",
    "    * [Every Recusive Solution = Iterative Solution using a Stack]\n",
    "    * [Every Brute-force Solution (O(n^2)time, O(1)space) => (1) Using a Map/Set (O(n),O(n)) (2) Using Sorting (O(nlogn),O(1))]\n",
    "\n",
    "The reference article is from [here](https://betterprogramming.pub/the-ultimate-strategy-to-preparing-for-the-coding-interview-ee9f7eb439f3)\n",
    "\n"
   ]
  },
  {
   "cell_type": "markdown",
   "id": "modular-difficulty",
   "metadata": {},
   "source": [
    "[back to top](#table-of-contents)\n",
    "<a id=\"pattern1\"></a>\n",
    "## [Pattern1] Sorted Array: Binary Search or Two Pointers \n",
    "\n",
    "* If the given input is `sorted` (array, list, or matrix), we will use a variation of `Binary Search` or a `Two Pointers`\n",
    "* If the problem involves a `LinkedList` and requires `no extra space`, we use `Fast&Slow Pointer` Approach\n"
   ]
  },
  {
   "cell_type": "markdown",
   "id": "modified-bennett",
   "metadata": {},
   "source": [
    "### Sample Problem for Binary Search: Bitonic array maximum\n",
    "Problem Statement: Find the maximum value in a given Bitonic array. An array is considered bitonic if it is monotonically increasing and then monotonically decreasing. Monotonically increasing or decreasing means that for any index i in the array, arr[i] != arr[i+1].\n",
    "\n",
    "```\n",
    "Input: [1,3,8,12,4,2], output: 12 \n",
    "```\n"
   ]
  },
  {
   "cell_type": "code",
   "execution_count": 1,
   "id": "familiar-peace",
   "metadata": {},
   "outputs": [
    {
     "output_type": "error",
     "ename": "SyntaxError",
     "evalue": "invalid syntax (<ipython-input-1-0fc5be7e2c1a>, line 5)",
     "traceback": [
      "\u001b[1;36m  File \u001b[1;32m\"<ipython-input-1-0fc5be7e2c1a>\"\u001b[1;36m, line \u001b[1;32m5\u001b[0m\n\u001b[1;33m    class MaxInBitonicArray {\u001b[0m\n\u001b[1;37m                            ^\u001b[0m\n\u001b[1;31mSyntaxError\u001b[0m\u001b[1;31m:\u001b[0m invalid syntax\n"
     ]
    }
   ],
   "source": [
    "#include <iostream>\n",
    "#include <limits>\n",
    "#include <vector>\n",
    "\n",
    "class MaxInBitonicArray { \n",
    " public: \n",
    "    MaxInBitonicArray(); \n",
    "    int FindMax(); \n",
    " private: \n",
    "    int max = std::numeric_limits<int>::min(); \n",
    "}\n"
   ]
  },
  {
   "cell_type": "markdown",
   "id": "logical-driving",
   "metadata": {},
   "source": [
    "[back to top](#table-of-contents)\n",
    "<a id=\"pattern2\"></a>\n",
    "## [Pattern2] Top/Max/Min/Closet K: Heap  \n",
    "\n",
    "* If we're dealing with top/maximum/minimum/closest `k elements among n elements`, we will use a `Heap`"
   ]
  },
  {
   "cell_type": "markdown",
   "id": "elegant-basement",
   "metadata": {},
   "source": [
    "[back to top](#table-of-contents)\n",
    "<a id=\"pattern3\"></a>\n",
    "## [Pattern3] Combinations or Permutations: Backtracking or BFS\n",
    "\n",
    "* If we need to try all `combinations or permutations` of the input, we can either use `recursive Backgracking` or `iterative Breadth-First Search`"
   ]
  },
  {
   "cell_type": "code",
   "execution_count": null,
   "id": "intelligent-gardening",
   "metadata": {},
   "outputs": [],
   "source": []
  }
 ],
 "metadata": {
  "kernelspec": {
   "name": "python3",
   "display_name": "Python 3.8.3 64-bit ('Anaconda3')",
   "metadata": {
    "interpreter": {
     "hash": "3c1a5939b5a4ebd0d5fe389accff25241890711341e58d4376f09f1261d2a0d5"
    }
   }
  },
  "language_info": {
   "codemirror_mode": "text/x-c++src",
   "file_extension": ".cpp",
   "mimetype": "text/x-c++src",
   "name": "c++",
   "version": "3.8.3"
  }
 },
 "nbformat": 4,
 "nbformat_minor": 5
}
